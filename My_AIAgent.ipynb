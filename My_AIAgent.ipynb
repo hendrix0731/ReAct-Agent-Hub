{
  "nbformat": 4,
  "nbformat_minor": 0,
  "metadata": {
    "colab": {
      "provenance": []
    },
    "kernelspec": {
      "name": "python3",
      "display_name": "Python 3"
    },
    "language_info": {
      "name": "python"
    }
  },
  "cells": [
    {
      "cell_type": "code",
      "execution_count": 84,
      "metadata": {
        "id": "WtbVxIXd9QSK"
      },
      "outputs": [],
      "source": [
        "import os\n",
        "os.environ[\"HUGGINGFACEHUB_API_TOKEN\"]=\"Your_api_key\""
      ]
    },
    {
      "cell_type": "code",
      "source": [
        "! pip install -q langchain-huggingface langchain-core langchain_community requests duckduckgo-search\n",
        "! pip install -U ddgs"
      ],
      "metadata": {
        "colab": {
          "base_uri": "https://localhost:8080/"
        },
        "id": "QIEZKHaJ9zNp",
        "outputId": "c4aaf85c-6721-4a5a-b1d7-17a2b8466374"
      },
      "execution_count": 8,
      "outputs": [
        {
          "output_type": "stream",
          "name": "stdout",
          "text": [
            "Collecting ddgs\n",
            "  Downloading ddgs-9.6.0-py3-none-any.whl.metadata (18 kB)\n",
            "Requirement already satisfied: click>=8.1.8 in /usr/local/lib/python3.12/dist-packages (from ddgs) (8.2.1)\n",
            "Requirement already satisfied: primp>=0.15.0 in /usr/local/lib/python3.12/dist-packages (from ddgs) (0.15.0)\n",
            "Collecting lxml>=6.0.0 (from ddgs)\n",
            "  Downloading lxml-6.0.2-cp312-cp312-manylinux_2_26_x86_64.manylinux_2_28_x86_64.whl.metadata (3.6 kB)\n",
            "Requirement already satisfied: httpx>=0.28.1 in /usr/local/lib/python3.12/dist-packages (from httpx[brotli,http2,socks]>=0.28.1->ddgs) (0.28.1)\n",
            "Requirement already satisfied: anyio in /usr/local/lib/python3.12/dist-packages (from httpx>=0.28.1->httpx[brotli,http2,socks]>=0.28.1->ddgs) (4.10.0)\n",
            "Requirement already satisfied: certifi in /usr/local/lib/python3.12/dist-packages (from httpx>=0.28.1->httpx[brotli,http2,socks]>=0.28.1->ddgs) (2025.8.3)\n",
            "Requirement already satisfied: httpcore==1.* in /usr/local/lib/python3.12/dist-packages (from httpx>=0.28.1->httpx[brotli,http2,socks]>=0.28.1->ddgs) (1.0.9)\n",
            "Requirement already satisfied: idna in /usr/local/lib/python3.12/dist-packages (from httpx>=0.28.1->httpx[brotli,http2,socks]>=0.28.1->ddgs) (3.10)\n",
            "Requirement already satisfied: h11>=0.16 in /usr/local/lib/python3.12/dist-packages (from httpcore==1.*->httpx>=0.28.1->httpx[brotli,http2,socks]>=0.28.1->ddgs) (0.16.0)\n",
            "Requirement already satisfied: brotli in /usr/local/lib/python3.12/dist-packages (from httpx[brotli,http2,socks]>=0.28.1->ddgs) (1.1.0)\n",
            "Requirement already satisfied: h2<5,>=3 in /usr/local/lib/python3.12/dist-packages (from httpx[brotli,http2,socks]>=0.28.1->ddgs) (4.3.0)\n",
            "Collecting socksio==1.* (from httpx[brotli,http2,socks]>=0.28.1->ddgs)\n",
            "  Downloading socksio-1.0.0-py3-none-any.whl.metadata (6.1 kB)\n",
            "Requirement already satisfied: hyperframe<7,>=6.1 in /usr/local/lib/python3.12/dist-packages (from h2<5,>=3->httpx[brotli,http2,socks]>=0.28.1->ddgs) (6.1.0)\n",
            "Requirement already satisfied: hpack<5,>=4.1 in /usr/local/lib/python3.12/dist-packages (from h2<5,>=3->httpx[brotli,http2,socks]>=0.28.1->ddgs) (4.1.0)\n",
            "Requirement already satisfied: sniffio>=1.1 in /usr/local/lib/python3.12/dist-packages (from anyio->httpx>=0.28.1->httpx[brotli,http2,socks]>=0.28.1->ddgs) (1.3.1)\n",
            "Requirement already satisfied: typing_extensions>=4.5 in /usr/local/lib/python3.12/dist-packages (from anyio->httpx>=0.28.1->httpx[brotli,http2,socks]>=0.28.1->ddgs) (4.15.0)\n",
            "Downloading ddgs-9.6.0-py3-none-any.whl (41 kB)\n",
            "\u001b[2K   \u001b[90m━━━━━━━━━━━━━━━━━━━━━━━━━━━━━━━━━━━━━━━━\u001b[0m \u001b[32m41.6/41.6 kB\u001b[0m \u001b[31m1.9 MB/s\u001b[0m eta \u001b[36m0:00:00\u001b[0m\n",
            "\u001b[?25hDownloading socksio-1.0.0-py3-none-any.whl (12 kB)\n",
            "Downloading lxml-6.0.2-cp312-cp312-manylinux_2_26_x86_64.manylinux_2_28_x86_64.whl (5.3 MB)\n",
            "\u001b[2K   \u001b[90m━━━━━━━━━━━━━━━━━━━━━━━━━━━━━━━━━━━━━━━━\u001b[0m \u001b[32m5.3/5.3 MB\u001b[0m \u001b[31m46.7 MB/s\u001b[0m eta \u001b[36m0:00:00\u001b[0m\n",
            "\u001b[?25hInstalling collected packages: socksio, lxml, ddgs\n",
            "  Attempting uninstall: lxml\n",
            "    Found existing installation: lxml 5.4.0\n",
            "    Uninstalling lxml-5.4.0:\n",
            "      Successfully uninstalled lxml-5.4.0\n",
            "Successfully installed ddgs-9.6.0 lxml-6.0.2 socksio-1.0.0\n"
          ]
        }
      ]
    },
    {
      "cell_type": "markdown",
      "source": [
        "### All important imports"
      ],
      "metadata": {
        "id": "butos7eEBEe3"
      }
    },
    {
      "cell_type": "code",
      "source": [
        "from langchain_huggingface import ChatHuggingFace,HuggingFaceEndpoint\n",
        "from langchain_core.tools import tool\n",
        "import requests\n",
        "from langchain_community.tools import DuckDuckGoSearchRun\n",
        "from langchain.agents import create_react_agent, AgentExecutor\n",
        "from langchain import hub\n",
        "from langchain_core.prompts import PromptTemplate\n",
        "from langchain_core.output_parsers import StrOutputParser"
      ],
      "metadata": {
        "id": "R1rge6_K-OmW"
      },
      "execution_count": 67,
      "outputs": []
    },
    {
      "cell_type": "code",
      "source": [
        "#taking user query\n",
        "search_topic=input(\"Enter the topic you want to search : \")"
      ],
      "metadata": {
        "colab": {
          "base_uri": "https://localhost:8080/"
        },
        "id": "1SWQaUkN-7FR",
        "outputId": "520c5c18-06b3-4c66-9861-56cc6b8f93ce"
      },
      "execution_count": 68,
      "outputs": [
        {
          "name": "stdout",
          "output_type": "stream",
          "text": [
            "Enter the topic you want to search : weather today in india?\n"
          ]
        }
      ]
    },
    {
      "cell_type": "markdown",
      "source": [
        "### create search tool for latest info"
      ],
      "metadata": {
        "id": "Ft4HzL0s_4M0"
      }
    },
    {
      "cell_type": "code",
      "source": [
        "# search internet for requirements\n",
        "search_tool=DuckDuckGoSearchRun()\n",
        "result=search_tool.invoke(search_topic)\n"
      ],
      "metadata": {
        "id": "32WvIje6-g3Q"
      },
      "execution_count": 69,
      "outputs": []
    },
    {
      "cell_type": "code",
      "source": [
        "#checking if result is stored or not tool is working?\n",
        "result"
      ],
      "metadata": {
        "colab": {
          "base_uri": "https://localhost:8080/",
          "height": 88
        },
        "id": "9kDhS5w-_X7Y",
        "outputId": "23138812-3eac-414e-ab7b-3ad185472d36"
      },
      "execution_count": 70,
      "outputs": [
        {
          "output_type": "execute_result",
          "data": {
            "text/plain": [
              "'India Weather Today : India braces for wet week ahead; rains disrupt life in Tripura, Bengaluru ... The weather agency, as per a report in The Indian ... India Weather Today : Light to moderate rainfall, thunderstorms, and strong winds likely in parts of India this week According to experts quoted by news agency PTI , temperatures may even scale to 47 degrees Celsius in parts of northwest India . Today , in Padmanabham, expect scattered showers to bring rain on and off throughout the day. ... filled and occasionally cloudy weather is forecasted. Weather forecast and temperature for today - Saturday, 25. ... At the moment, in New Delhi, the weather is bright and sunny .'"
            ],
            "application/vnd.google.colaboratory.intrinsic+json": {
              "type": "string"
            }
          },
          "metadata": {},
          "execution_count": 70
        }
      ]
    },
    {
      "cell_type": "markdown",
      "source": [
        "# **Creating tool for weather info**"
      ],
      "metadata": {
        "id": "KUP63-XUO69_"
      }
    },
    {
      "cell_type": "code",
      "source": [
        "@tool\n",
        "def get_weather_data(city: str) -> str:\n",
        "  \"\"\"\n",
        "  This function fetches the current weather data for a given city\n",
        "  \"\"\"\n",
        "  url = f'https://api.weatherstack.com/current?access_key={your_API_key}&query={city}'\n",
        "\n",
        "  response = requests.get(url)\n",
        "\n",
        "  return response.json()"
      ],
      "metadata": {
        "id": "nCKYWrc1O_qi"
      },
      "execution_count": 71,
      "outputs": []
    },
    {
      "cell_type": "markdown",
      "source": [
        "### LLM initilizing"
      ],
      "metadata": {
        "id": "XLgMMxRI_wO_"
      }
    },
    {
      "cell_type": "code",
      "source": [
        "model = HuggingFaceEndpoint(\n",
        "    repo_id=\"google/gemma-2-2b-it\",\n",
        "    task=\"text-generation\"\n",
        ")\n",
        "llm=ChatHuggingFace(llm=model)"
      ],
      "metadata": {
        "id": "sAPWigPB_s02"
      },
      "execution_count": 72,
      "outputs": []
    },
    {
      "cell_type": "code",
      "source": [
        "llm.invoke('hi') #checking if model is working or not"
      ],
      "metadata": {
        "colab": {
          "base_uri": "https://localhost:8080/"
        },
        "id": "DmS-gmzcAsvs",
        "outputId": "e6299831-b962-42da-f1c2-8d7356ab9ec2"
      },
      "execution_count": 73,
      "outputs": [
        {
          "output_type": "execute_result",
          "data": {
            "text/plain": [
              "AIMessage(content='Hi! 👋  What can I do for you today? \\n', additional_kwargs={}, response_metadata={'token_usage': {'completion_tokens': 15, 'prompt_tokens': 10, 'total_tokens': 25}, 'model_name': 'google/gemma-2-2b-it', 'system_fingerprint': None, 'finish_reason': 'stop', 'logprobs': None}, id='run--9884f0b7-adb5-46ec-9f5b-30b7a0486ac6-0', usage_metadata={'input_tokens': 10, 'output_tokens': 15, 'total_tokens': 25})"
            ]
          },
          "metadata": {},
          "execution_count": 73
        }
      ]
    },
    {
      "cell_type": "markdown",
      "source": [
        "### pulling react prompt from langchain hub\n",
        "**standard  ReAct agent prompt**"
      ],
      "metadata": {
        "id": "Z9azQAGNB2lQ"
      }
    },
    {
      "cell_type": "code",
      "source": [
        "prompt=hub.pull(\"hwchase17/react\")"
      ],
      "metadata": {
        "id": "E8lIftnpA39y"
      },
      "execution_count": 74,
      "outputs": []
    },
    {
      "cell_type": "markdown",
      "source": [
        "# Manually creating react agent"
      ],
      "metadata": {
        "id": "EUNTNer6ETi0"
      }
    },
    {
      "cell_type": "code",
      "source": [
        "from re import VERBOSE\n",
        "agent=create_react_agent(\n",
        "    llm=llm,\n",
        "    tools=[search_tool,get_weather_data],\n",
        "    prompt=prompt\n",
        ")"
      ],
      "metadata": {
        "id": "GnoJ1hLACrTB"
      },
      "execution_count": 75,
      "outputs": []
    },
    {
      "cell_type": "markdown",
      "source": [
        "## Wrape it with agent executor"
      ],
      "metadata": {
        "id": "KVU0gUNCEndr"
      }
    },
    {
      "cell_type": "code",
      "source": [
        "agent_executor=AgentExecutor(\n",
        "    agent=agent,\n",
        "    tools=[search_tool,get_weather_data],\n",
        "    verbose=True\n",
        ")\n"
      ],
      "metadata": {
        "id": "Nj556x7tEltu"
      },
      "execution_count": 76,
      "outputs": []
    },
    {
      "cell_type": "code",
      "source": [
        "# creating query so that user can enter it\n",
        "query=input(\"Enter your query : \")"
      ],
      "metadata": {
        "colab": {
          "base_uri": "https://localhost:8080/"
        },
        "id": "1Lh3usuCGKaQ",
        "outputId": "324b3dc2-afca-4c62-b04b-875d848918eb"
      },
      "execution_count": 77,
      "outputs": [
        {
          "name": "stdout",
          "output_type": "stream",
          "text": [
            "Enter your query : i want to visit mumbai to hongkong by flight can you tell me price of ticket and weather  as well\n"
          ]
        }
      ]
    },
    {
      "cell_type": "markdown",
      "source": [
        "**Invoking agent**"
      ],
      "metadata": {
        "id": "ied0uxREE2xx"
      }
    },
    {
      "cell_type": "code",
      "source": [
        "response=agent_executor.invoke({\"input\":{query}})\n",
        "print(response)"
      ],
      "metadata": {
        "colab": {
          "base_uri": "https://localhost:8080/"
        },
        "id": "-ox5vP_fEz6Q",
        "outputId": "b61e4064-49fa-483b-e67b-ec031e0dee03"
      },
      "execution_count": 78,
      "outputs": [
        {
          "output_type": "stream",
          "name": "stdout",
          "text": [
            "\n",
            "\n",
            "\u001b[1m> Entering new AgentExecutor chain...\u001b[0m\n",
            "\u001b[32;1m\u001b[1;3mThought: I need to get information about flight prices and weather for Mumbai and Hong Kong.\n",
            "Action: duckduckgo_search\n",
            "Action Input: flight price mumbai hong kong\u001b[0m\u001b[36;1m\u001b[1;3mCombine your flight from Mumbai to Hong Kong with hotels and car hire. Once you've secured your plane ticket we will also help you discover the best prices and exclusive rates for hotels in Hong Kong or close by. Average price of one-stop return flights from Mumbai to Hong Kong , with the same stopover airport on both legs, clicked by momondo users over the past 12 months.A good Cathay Pacific flight deal for Mumbai to Hong Kong starts from ₹ 399 round-trip, up to an average price of ₹ 522. The price you pay for your flight from Mumbai to Hong Kong may vary depending on when you book.The cheapest flight overall is ₹ 23,618 while the most popular route, ( Mumbai Chhatrapati Shivaji Intl - Hong Kong Intl) is currently priced at ₹ 24,602. Last-minute promo tickets for the route Mumbai - Hong Kong .You can easily look up most recent promo flights and flight availability by clicking on your preferred date or price . Find cheap flights to Mumbai Chhatrapati Shivaji Intl (BOM) from HK $1,249. Search and compare return, one-way, or last-minute flights to Mumbai . Price to beat on a round-trip flight from Hong Kong Intl to Mumbai Chhatrapati Shivaji Intl.\u001b[0m\u001b[32;1m\u001b[1;3mThought: I need weather information for Mumbai and Hong Kong\n",
            "Action: get_weather_data\n",
            "Action Input: Mumbai\u001b[0m\u001b[33;1m\u001b[1;3m{'request': {'type': 'City', 'query': 'Mumbai, India', 'language': 'en', 'unit': 'm'}, 'location': {'name': 'Mumbai', 'country': 'India', 'region': 'Maharashtra', 'lat': '18.975', 'lon': '72.826', 'timezone_id': 'Asia/Kolkata', 'localtime': '2025-09-26 14:44', 'localtime_epoch': 1758897840, 'utc_offset': '5.50'}, 'current': {'observation_time': '09:14 AM', 'temperature': 30, 'weather_code': 143, 'weather_icons': ['https://cdn.worldweatheronline.com/images/wsymbols01_png_64/wsymbol_0006_mist.png'], 'weather_descriptions': ['Haze'], 'astro': {'sunrise': '06:28 AM', 'sunset': '06:31 PM', 'moonrise': '10:03 AM', 'moonset': '09:14 PM', 'moon_phase': 'Waxing Crescent', 'moon_illumination': 15}, 'air_quality': {'co': '556.85', 'no2': '25.16', 'o3': '42', 'so2': '47.175', 'pm2_5': '27.01', 'pm10': '33.3', 'us-epa-index': '2', 'gb-defra-index': '2'}, 'wind_speed': 13, 'wind_degree': 246, 'wind_dir': 'WSW', 'pressure': 1006, 'precip': 0, 'humidity': 70, 'cloudcover': 75, 'feelslike': 37, 'uv_index': 8, 'visibility': 4, 'is_day': 'yes'}}\u001b[0m\u001b[32;1m\u001b[1;3mThought: I need to get weather information for Hong Kong, \n",
            "Action: get_weather_data\n",
            "Action Input: Hong Kong\u001b[0m\u001b[33;1m\u001b[1;3m{'request': {'type': 'City', 'query': 'Hong Kong, Hong Kong', 'language': 'en', 'unit': 'm'}, 'location': {'name': 'Hong Kong', 'country': 'Hong Kong', 'region': '', 'lat': '22.283', 'lon': '114.150', 'timezone_id': 'Asia/Hong_Kong', 'localtime': '2025-09-26 17:37', 'localtime_epoch': 1758908220, 'utc_offset': '8.0'}, 'current': {'observation_time': '09:37 AM', 'temperature': 33, 'weather_code': 176, 'weather_icons': ['https://cdn.worldweatheronline.com/images/wsymbols01_png_64/wsymbol_0009_light_rain_showers.png'], 'weather_descriptions': ['Patchy rain nearby'], 'astro': {'sunrise': '06:13 AM', 'sunset': '06:16 PM', 'moonrise': '09:48 AM', 'moonset': '08:47 PM', 'moon_phase': 'Waxing Crescent', 'moon_illumination': 15}, 'air_quality': {'co': '355.2', 'no2': '73.26', 'o3': '35', 'so2': '65.49', 'pm2_5': '49.21', 'pm10': '51.06', 'us-epa-index': '3', 'gb-defra-index': '3'}, 'wind_speed': 24, 'wind_degree': 85, 'wind_dir': 'E', 'pressure': 1011, 'precip': 0, 'humidity': 56, 'cloudcover': 25, 'feelslike': 46, 'uv_index': 1, 'visibility': 10, 'is_day': 'yes'}}\u001b[0m\u001b[32;1m\u001b[1;3mThought: I have the flight information, weather for Mumbai and Hong Kong now. I can give the user the requested information\n",
            "Final Answer: I've got a flight ticket estimate for Mumbai to Hong Kong - including the price ranges. \n",
            "In terms of weather you can expect in both destinations, Mumbai will start with a temperature of 30 degrees Celsius with a haze and in Hong Kong it's 33 degrees Celcius. **This information will help you plan your trip.** \n",
            "\u001b[0m\n",
            "\n",
            "\u001b[1m> Finished chain.\u001b[0m\n",
            "{'input': {'i want to visit mumbai to hongkong by flight can you tell me price of ticket and weather  as well'}, 'output': \"I've got a flight ticket estimate for Mumbai to Hong Kong - including the price ranges. \\nIn terms of weather you can expect in both destinations, Mumbai will start with a temperature of 30 degrees Celsius with a haze and in Hong Kong it's 33 degrees Celcius. **This information will help you plan your trip.**\"}\n"
          ]
        }
      ]
    },
    {
      "cell_type": "code",
      "source": [
        "ans=response['output']"
      ],
      "metadata": {
        "id": "CeYWUzxWFW-p"
      },
      "execution_count": 79,
      "outputs": []
    },
    {
      "cell_type": "markdown",
      "source": [
        "## Creating prompt for llm to summarise the output and parser as well"
      ],
      "metadata": {
        "id": "JgdbDVk8RiCe"
      }
    },
    {
      "cell_type": "code",
      "source": [
        "do = PromptTemplate(\n",
        "    input_variables=[\"ans\"],\n",
        "    template=\"\"\"\n",
        "You are a polite and professional female receptionist at a travel agency.\n",
        "Your task is to take the AI agent's answer and rephrase it in a warm, formal, and professional manner.\n",
        "\n",
        "Guidelines for your reply:\n",
        "1. Begin with a courteous greeting.\n",
        "2. Rephrase the AI's answer clearly and politely.\n",
        "3. If the answer asks for details, phrase it as thoughtful and professional questions.\n",
        "4. Add helpful travel reminders when appropriate (documents, tickets, ID, travel insurance, essentials).\n",
        "5. Keep it concise, professional, and friendly.\n",
        "\n",
        "Here is the AI agent’s answer that you must rephrase:\n",
        "\"{ans}\"\n",
        "\"\"\"\n",
        ")"
      ],
      "metadata": {
        "id": "jOIbwWrMQ__l"
      },
      "execution_count": 80,
      "outputs": []
    },
    {
      "cell_type": "code",
      "source": [
        "parser=StrOutputParser()"
      ],
      "metadata": {
        "id": "fmpzmEIoT18c"
      },
      "execution_count": 81,
      "outputs": []
    },
    {
      "cell_type": "markdown",
      "source": [
        "now chain to invoke it\n"
      ],
      "metadata": {
        "id": "VsF1O91gUxMR"
      }
    },
    {
      "cell_type": "code",
      "source": [
        "chain= do|llm|parser"
      ],
      "metadata": {
        "id": "R9gBfcuLUGlc"
      },
      "execution_count": 82,
      "outputs": []
    },
    {
      "cell_type": "markdown",
      "source": [
        "# **invoking chain**"
      ],
      "metadata": {
        "id": "ZtOFqNJMVPYE"
      }
    },
    {
      "cell_type": "code",
      "source": [
        "# Run it\n",
        "output = chain.invoke({\"ans\": response['output']})\n",
        "print(output)"
      ],
      "metadata": {
        "colab": {
          "base_uri": "https://localhost:8080/"
        },
        "id": "Bcs3vSosU8cm",
        "outputId": "e0d565cf-52e9-4f8a-883d-039243fa3abd"
      },
      "execution_count": 83,
      "outputs": [
        {
          "output_type": "stream",
          "name": "stdout",
          "text": [
            "Hello, welcome!  It sounds like you're planning a trip to Mumbai and Hong Kong.  I'm happy to share some preliminary information on your flights. The estimated prices for a round trip from Mumbai to Hong Kong are quite varied. \n",
            "\n",
            "For Mumbai, the summer months we live with temperatures around 30 degrees Celcius with a degree of haze.  In Hong Kong, expect 33 degrees Celsius, a little more warmth.  Both these cities are tropical, so please remember to pack accordingly.\n",
            "\n",
            "To ensure a smooth travel experience, it's a good idea to remember the essential travel documents, including your passport and both confirmed tickets, particularly if traveling during peak seasons. It's essential to also ensure you have travel insurance and any required visas. Enjoy your trip! \n",
            "\n"
          ]
        }
      ]
    },
    {
      "cell_type": "code",
      "source": [],
      "metadata": {
        "id": "st9zrsCVVBrK"
      },
      "execution_count": null,
      "outputs": []
    }
  ]
}